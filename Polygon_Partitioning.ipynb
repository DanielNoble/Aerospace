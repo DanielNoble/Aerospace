{
  "nbformat": 4,
  "nbformat_minor": 0,
  "metadata": {
    "colab": {
      "name": "Polygon Partitioning",
      "provenance": [],
      "collapsed_sections": [],
      "authorship_tag": "ABX9TyOm0ZLsHElsut7pPtvDBmX3",
      "include_colab_link": true
    },
    "kernelspec": {
      "name": "python3",
      "display_name": "Python 3"
    }
  },
  "cells": [
    {
      "cell_type": "markdown",
      "metadata": {
        "id": "view-in-github",
        "colab_type": "text"
      },
      "source": [
        "<a href=\"https://colab.research.google.com/github/DanielNoble/Aerospace/blob/main/Polygon_Partitioning.ipynb\" target=\"_parent\"><img src=\"https://colab.research.google.com/assets/colab-badge.svg\" alt=\"Open In Colab\"/></a>"
      ]
    },
    {
      "cell_type": "code",
      "metadata": {
        "id": "J3LT-tytPDT1"
      },
      "source": [
        "from shapely.geometry import Polygon, LineString, Point\n",
        "from shapely import affinity\n",
        "import matplotlib.pyplot as plt\n",
        "import math\n",
        "import numpy as np"
      ],
      "execution_count": 2,
      "outputs": []
    },
    {
      "cell_type": "code",
      "metadata": {
        "id": "Fhv3p8v-0LSY"
      },
      "source": [
        "def angle_between(p1, p2):\n",
        "    ang1 = np.arctan2(*p1[::-1])\n",
        "    ang2 = np.arctan2(*p2[::-1])\n",
        "    return (ang2 - ang1) % (2 * np.pi)"
      ],
      "execution_count": 3,
      "outputs": []
    },
    {
      "cell_type": "code",
      "metadata": {
        "id": "dNg_f2XcXbnV"
      },
      "source": [
        "def scale_fit(line, polygon, scalar):\n",
        "    start = line.coords[0]\n",
        "    end = line.coords[1]\n",
        "    deltax = end[0] - start[0]\n",
        "    deltay = end[1] - start[1]\n",
        "    deltax = deltax * scalar\n",
        "    deltay = deltay * scalar\n",
        "    new_coords = Point(deltax + start[0], deltay + start[1])\n",
        "    new_line = LineString([start, new_coords])\n",
        "    # return new_line.intersection(polygon)\n",
        "    return LineString([start, new_line.intersection(polygon)])"
      ],
      "execution_count": 60,
      "outputs": []
    },
    {
      "cell_type": "code",
      "metadata": {
        "id": "r07O7dAGZFvs"
      },
      "source": [
        "def line_to_vec(line):\n",
        "    print(line.coords)\n",
        "    return np.array([line.coords[1][0] - line.coords[0][0], line.coords[1][1] - line.coords[0][1]])"
      ],
      "execution_count": 5,
      "outputs": []
    },
    {
      "cell_type": "code",
      "metadata": {
        "id": "HH6ZW1-CPMCd"
      },
      "source": [
        "# want polygon, point, n, step, and threshold\n",
        "# find the maximum distance from the point to the polygon -> extrapolate_scalar\n",
        "# first line is [1, 0] unit vector extrapolated to intersect\n",
        "# iterator:\n",
        "# start at step angle, find unit vector\n",
        "# extrapolate using scalar, find intersection point with polygon\n",
        "# using that point and the points of the start line, make polygon and find area\n",
        "# if area within polygon/n +- threshold area, store polygon, update start line,\n",
        "# start new polygon\n",
        "def polygon_partition(shape, origin, n, step, threshold):\n",
        "    target_area = shape.area / n\n",
        "    print(\"Target area: \"  + str(target_area))\n",
        "    scalar = shape.hausdorff_distance(origin)\n",
        "\n",
        "    starting_line = LineString([origin, Point(origin.x + 1, origin.y)])\n",
        "    starting_line = scale_fit(starting_line, shape, scalar)\n",
        "    vector_line = line_to_vec(starting_line)\n",
        "\n",
        "    area = 1000\n",
        "    angle = 0\n",
        "\n",
        "    while (abs(area - target_area) > threshold):\n",
        "        angle += step\n",
        "        print(angle)\n",
        "\n",
        "        new_line = LineString([origin, Point(origin.x + math.cos(angle), origin.y + math.sin(angle))])\n",
        "        new_line = scale_fit(new_line, shape, scalar)\n",
        "\n",
        "        points = []\n",
        "        # Creates a list of the points on the shape that are in the angle\n",
        "        for point in shape.exterior.coords:\n",
        "            point_vec = line_to_vec(LineString([origin, point]))\n",
        "            point_angle = angle_between(vector_line, point_vec)\n",
        "            if (point_angle <= angle and point_angle >= 0):\n",
        "                # print(\"Point: \" + str(point) + \", Angle: \" + str(point_angle))\n",
        "                points.append(point)\n",
        "\n",
        "        #Adds the end of the starting line, the end of the new line, and the origin to round out the polygon\n",
        "        points.insert(0, starting_line.coords[1])\n",
        "        points.insert(0, origin)\n",
        "        points.append(new_line.coords[1])\n",
        "        points.append(origin)\n",
        "        sector = Polygon(points)\n",
        "\n",
        "        # print(\"Sector area: \" + str(sector.area))\n",
        "        area = sector.area\n",
        "\n",
        "    \n",
        "    # TOOO: Iterate through, incrementing angle, finding new line intersecting polygon\n",
        "    # Sector needs to include union of the lines and the polygon\n",
        "    print(\"succeeded: \" + str(sector.area))\n",
        "    return sector"
      ],
      "execution_count": 61,
      "outputs": []
    },
    {
      "cell_type": "code",
      "metadata": {
        "colab": {
          "base_uri": "https://localhost:8080/",
          "height": 313
        },
        "id": "IVCpgH4MRTgm",
        "outputId": "7e74a73d-d6b4-4a89-d863-2a778af8fa97"
      },
      "source": [
        "polygon1 = Polygon([[0, 0], [1, 0], [1, 1], [0, 1], [0, 0]])\n",
        "point = Point(0.5, 0.5)\n",
        "\n",
        "sector = polygon_partition(polygon1, point, 5, .1, 0.005)\n",
        "\n",
        "plt.plot(*polygon1.exterior.xy)\n",
        "plt.plot(*sector.exterior.coords.xy, color='black')"
      ],
      "execution_count": 62,
      "outputs": [
        {
          "output_type": "stream",
          "text": [
            "Target area: 0.2\n"
          ],
          "name": "stdout"
        },
        {
          "output_type": "error",
          "ename": "TypeError",
          "evalue": "ignored",
          "traceback": [
            "\u001b[0;31m---------------------------------------------------------------------------\u001b[0m",
            "\u001b[0;31mAttributeError\u001b[0m                            Traceback (most recent call last)",
            "\u001b[0;32m/usr/local/lib/python3.7/dist-packages/shapely/speedups/_speedups.pyx\u001b[0m in \u001b[0;36mshapely.speedups._speedups.geos_linestring_from_py\u001b[0;34m()\u001b[0m\n",
            "\u001b[0;31mAttributeError\u001b[0m: 'list' object has no attribute '__array_interface__'",
            "\nDuring handling of the above exception, another exception occurred:\n",
            "\u001b[0;31mTypeError\u001b[0m                                 Traceback (most recent call last)",
            "\u001b[0;32m<ipython-input-62-1e57a8b0c4e0>\u001b[0m in \u001b[0;36m<module>\u001b[0;34m()\u001b[0m\n\u001b[1;32m      2\u001b[0m \u001b[0mpoint\u001b[0m \u001b[0;34m=\u001b[0m \u001b[0mPoint\u001b[0m\u001b[0;34m(\u001b[0m\u001b[0;36m0.5\u001b[0m\u001b[0;34m,\u001b[0m \u001b[0;36m0.5\u001b[0m\u001b[0;34m)\u001b[0m\u001b[0;34m\u001b[0m\u001b[0;34m\u001b[0m\u001b[0m\n\u001b[1;32m      3\u001b[0m \u001b[0;34m\u001b[0m\u001b[0m\n\u001b[0;32m----> 4\u001b[0;31m \u001b[0msector\u001b[0m \u001b[0;34m=\u001b[0m \u001b[0mpolygon_partition\u001b[0m\u001b[0;34m(\u001b[0m\u001b[0mpolygon1\u001b[0m\u001b[0;34m,\u001b[0m \u001b[0mpoint\u001b[0m\u001b[0;34m,\u001b[0m \u001b[0;36m5\u001b[0m\u001b[0;34m,\u001b[0m \u001b[0;36m.1\u001b[0m\u001b[0;34m,\u001b[0m \u001b[0;36m0.005\u001b[0m\u001b[0;34m)\u001b[0m\u001b[0;34m\u001b[0m\u001b[0;34m\u001b[0m\u001b[0m\n\u001b[0m\u001b[1;32m      5\u001b[0m \u001b[0;34m\u001b[0m\u001b[0m\n\u001b[1;32m      6\u001b[0m \u001b[0mplt\u001b[0m\u001b[0;34m.\u001b[0m\u001b[0mplot\u001b[0m\u001b[0;34m(\u001b[0m\u001b[0;34m*\u001b[0m\u001b[0mpolygon1\u001b[0m\u001b[0;34m.\u001b[0m\u001b[0mexterior\u001b[0m\u001b[0;34m.\u001b[0m\u001b[0mxy\u001b[0m\u001b[0;34m)\u001b[0m\u001b[0;34m\u001b[0m\u001b[0;34m\u001b[0m\u001b[0m\n",
            "\u001b[0;32m<ipython-input-61-dad18f9c4174>\u001b[0m in \u001b[0;36mpolygon_partition\u001b[0;34m(shape, origin, n, step, threshold)\u001b[0m\n\u001b[1;32m     14\u001b[0m \u001b[0;34m\u001b[0m\u001b[0m\n\u001b[1;32m     15\u001b[0m     \u001b[0mstarting_line\u001b[0m \u001b[0;34m=\u001b[0m \u001b[0mLineString\u001b[0m\u001b[0;34m(\u001b[0m\u001b[0;34m[\u001b[0m\u001b[0morigin\u001b[0m\u001b[0;34m,\u001b[0m \u001b[0mPoint\u001b[0m\u001b[0;34m(\u001b[0m\u001b[0morigin\u001b[0m\u001b[0;34m.\u001b[0m\u001b[0mx\u001b[0m \u001b[0;34m+\u001b[0m \u001b[0;36m1\u001b[0m\u001b[0;34m,\u001b[0m \u001b[0morigin\u001b[0m\u001b[0;34m.\u001b[0m\u001b[0my\u001b[0m\u001b[0;34m)\u001b[0m\u001b[0;34m]\u001b[0m\u001b[0;34m)\u001b[0m\u001b[0;34m\u001b[0m\u001b[0;34m\u001b[0m\u001b[0m\n\u001b[0;32m---> 16\u001b[0;31m     \u001b[0mstarting_line\u001b[0m \u001b[0;34m=\u001b[0m \u001b[0mscale_fit\u001b[0m\u001b[0;34m(\u001b[0m\u001b[0mstarting_line\u001b[0m\u001b[0;34m,\u001b[0m \u001b[0mshape\u001b[0m\u001b[0;34m,\u001b[0m \u001b[0mscalar\u001b[0m\u001b[0;34m)\u001b[0m\u001b[0;34m\u001b[0m\u001b[0;34m\u001b[0m\u001b[0m\n\u001b[0m\u001b[1;32m     17\u001b[0m     \u001b[0mvector_line\u001b[0m \u001b[0;34m=\u001b[0m \u001b[0mline_to_vec\u001b[0m\u001b[0;34m(\u001b[0m\u001b[0mstarting_line\u001b[0m\u001b[0;34m)\u001b[0m\u001b[0;34m\u001b[0m\u001b[0;34m\u001b[0m\u001b[0m\n\u001b[1;32m     18\u001b[0m \u001b[0;34m\u001b[0m\u001b[0m\n",
            "\u001b[0;32m<ipython-input-60-60535cc9991e>\u001b[0m in \u001b[0;36mscale_fit\u001b[0;34m(line, polygon, scalar)\u001b[0m\n\u001b[1;32m      9\u001b[0m     \u001b[0mnew_line\u001b[0m \u001b[0;34m=\u001b[0m \u001b[0mLineString\u001b[0m\u001b[0;34m(\u001b[0m\u001b[0;34m[\u001b[0m\u001b[0mstart\u001b[0m\u001b[0;34m,\u001b[0m \u001b[0mnew_coords\u001b[0m\u001b[0;34m]\u001b[0m\u001b[0;34m)\u001b[0m\u001b[0;34m\u001b[0m\u001b[0;34m\u001b[0m\u001b[0m\n\u001b[1;32m     10\u001b[0m     \u001b[0;31m# return new_line.intersection(polygon)\u001b[0m\u001b[0;34m\u001b[0m\u001b[0;34m\u001b[0m\u001b[0;34m\u001b[0m\u001b[0m\n\u001b[0;32m---> 11\u001b[0;31m     \u001b[0;32mreturn\u001b[0m \u001b[0mLineString\u001b[0m\u001b[0;34m(\u001b[0m\u001b[0;34m[\u001b[0m\u001b[0mstart\u001b[0m\u001b[0;34m,\u001b[0m \u001b[0mnew_line\u001b[0m\u001b[0;34m.\u001b[0m\u001b[0mintersection\u001b[0m\u001b[0;34m(\u001b[0m\u001b[0mpolygon\u001b[0m\u001b[0;34m)\u001b[0m\u001b[0;34m]\u001b[0m\u001b[0;34m)\u001b[0m\u001b[0;34m\u001b[0m\u001b[0;34m\u001b[0m\u001b[0m\n\u001b[0m",
            "\u001b[0;32m/usr/local/lib/python3.7/dist-packages/shapely/geometry/linestring.py\u001b[0m in \u001b[0;36m__init__\u001b[0;34m(self, coordinates)\u001b[0m\n\u001b[1;32m     46\u001b[0m         \u001b[0mBaseGeometry\u001b[0m\u001b[0;34m.\u001b[0m\u001b[0m__init__\u001b[0m\u001b[0;34m(\u001b[0m\u001b[0mself\u001b[0m\u001b[0;34m)\u001b[0m\u001b[0;34m\u001b[0m\u001b[0;34m\u001b[0m\u001b[0m\n\u001b[1;32m     47\u001b[0m         \u001b[0;32mif\u001b[0m \u001b[0mcoordinates\u001b[0m \u001b[0;32mis\u001b[0m \u001b[0;32mnot\u001b[0m \u001b[0;32mNone\u001b[0m\u001b[0;34m:\u001b[0m\u001b[0;34m\u001b[0m\u001b[0;34m\u001b[0m\u001b[0m\n\u001b[0;32m---> 48\u001b[0;31m             \u001b[0mself\u001b[0m\u001b[0;34m.\u001b[0m\u001b[0m_set_coords\u001b[0m\u001b[0;34m(\u001b[0m\u001b[0mcoordinates\u001b[0m\u001b[0;34m)\u001b[0m\u001b[0;34m\u001b[0m\u001b[0;34m\u001b[0m\u001b[0m\n\u001b[0m\u001b[1;32m     49\u001b[0m \u001b[0;34m\u001b[0m\u001b[0m\n\u001b[1;32m     50\u001b[0m     \u001b[0;34m@\u001b[0m\u001b[0mproperty\u001b[0m\u001b[0;34m\u001b[0m\u001b[0;34m\u001b[0m\u001b[0m\n",
            "\u001b[0;32m/usr/local/lib/python3.7/dist-packages/shapely/geometry/linestring.py\u001b[0m in \u001b[0;36m_set_coords\u001b[0;34m(self, coordinates)\u001b[0m\n\u001b[1;32m     95\u001b[0m     \u001b[0;32mdef\u001b[0m \u001b[0m_set_coords\u001b[0m\u001b[0;34m(\u001b[0m\u001b[0mself\u001b[0m\u001b[0;34m,\u001b[0m \u001b[0mcoordinates\u001b[0m\u001b[0;34m)\u001b[0m\u001b[0;34m:\u001b[0m\u001b[0;34m\u001b[0m\u001b[0;34m\u001b[0m\u001b[0m\n\u001b[1;32m     96\u001b[0m         \u001b[0mself\u001b[0m\u001b[0;34m.\u001b[0m\u001b[0mempty\u001b[0m\u001b[0;34m(\u001b[0m\u001b[0;34m)\u001b[0m\u001b[0;34m\u001b[0m\u001b[0;34m\u001b[0m\u001b[0m\n\u001b[0;32m---> 97\u001b[0;31m         \u001b[0mret\u001b[0m \u001b[0;34m=\u001b[0m \u001b[0mgeos_linestring_from_py\u001b[0m\u001b[0;34m(\u001b[0m\u001b[0mcoordinates\u001b[0m\u001b[0;34m)\u001b[0m\u001b[0;34m\u001b[0m\u001b[0;34m\u001b[0m\u001b[0m\n\u001b[0m\u001b[1;32m     98\u001b[0m         \u001b[0;32mif\u001b[0m \u001b[0mret\u001b[0m \u001b[0;32mis\u001b[0m \u001b[0;32mnot\u001b[0m \u001b[0;32mNone\u001b[0m\u001b[0;34m:\u001b[0m\u001b[0;34m\u001b[0m\u001b[0;34m\u001b[0m\u001b[0m\n\u001b[1;32m     99\u001b[0m             \u001b[0mself\u001b[0m\u001b[0;34m.\u001b[0m\u001b[0m_geom\u001b[0m\u001b[0;34m,\u001b[0m \u001b[0mself\u001b[0m\u001b[0;34m.\u001b[0m\u001b[0m_ndim\u001b[0m \u001b[0;34m=\u001b[0m \u001b[0mret\u001b[0m\u001b[0;34m\u001b[0m\u001b[0;34m\u001b[0m\u001b[0m\n",
            "\u001b[0;32m/usr/local/lib/python3.7/dist-packages/shapely/speedups/_speedups.pyx\u001b[0m in \u001b[0;36mshapely.speedups._speedups.geos_linestring_from_py\u001b[0;34m()\u001b[0m\n",
            "\u001b[0;31mTypeError\u001b[0m: 'LineString' object is not subscriptable"
          ]
        }
      ]
    },
    {
      "cell_type": "code",
      "metadata": {
        "id": "hZVzq1FfKESU"
      },
      "source": [
        "def polygon_partition_v2(shape, origin, n, step, threshold, init_angle):\n",
        "    target_area = shape.area / n\n",
        "    print(\"Target area: \"  + str(target_area))\n",
        "    scalar = shape.hausdorff_distance(origin)\n",
        "    print(\"Reached scalar\")\n",
        "    starting_line = LineString([origin, Point(origin.x + np.cos(init_angle), origin.y + np.sin(init_angle))])\n",
        "    print(\"reached starting line\")\n",
        "    print(starting_line)\n",
        "    starting_line = scale_fit(starting_line, shape, scalar)\n",
        "    print(\"reached scale\")\n",
        "    print(starting_line)\n",
        "    vector_line = line_to_vec(starting_line)\n",
        "    print(\"reached vector\")\n",
        "\n",
        "    area = 1000\n",
        "    angle = init_angle\n",
        "\n",
        "    sector = Polygon([[0, 0], [1, 0], [0, 0]])\n",
        "\n",
        "    while (abs(area - target_area) > threshold):\n",
        "        angle += step\n",
        "        print(angle)\n",
        "\n",
        "        new_line = LineString([origin, Point(origin.x + math.cos(angle), origin.y + math.sin(angle))])\n",
        "        new_line = scale_fit(new_line, shape, scalar)\n",
        "\n",
        "        points = []\n",
        "        # Creates a list of the points on the shape that are in the angle\n",
        "        for point in shape.exterior.coords:\n",
        "            point_vec = line_to_vec(LineString([origin, point]))\n",
        "            point_angle = angle_between(vector_line, point_vec)\n",
        "            if (point_angle <= angle and point_angle >= 0):\n",
        "                # print(\"Point: \" + str(point) + \", Angle: \" + str(point_angle))\n",
        "                points.append(point)\n",
        "\n",
        "        #Adds the end of the starting line, the end of the new line, and the origin to round out the polygon\n",
        "        points.insert(0, starting_line.coords[1])\n",
        "        points.insert(0, origin)\n",
        "        points.append(new_line.coords[1])\n",
        "        points.append(origin)\n",
        "        sector = Polygon(points)\n",
        "\n",
        "        # print(\"Sector area: \" + str(sector.area))\n",
        "        area = sector.area\n",
        "\n",
        "    print(\"succeeded: \" + str(sector.area))\n",
        "    return sector\n",
        "    # return shape"
      ],
      "execution_count": 58,
      "outputs": []
    },
    {
      "cell_type": "code",
      "metadata": {
        "id": "3yKlUhqil3ae"
      },
      "source": [
        "def polygon_partitioner(shape, origin, n, step, threshold):\n",
        "    sectors = []\n",
        "    reduced_shape = shape\n",
        "    for i in range(n):\n",
        "        new_sector = polygon_partition(reduced_shape, origin, n - i, step, threshold)\n",
        "        reduced_shape = reduced_shape.difference(new_sector)\n",
        "        sectors.append(new_sector)\n",
        "\n",
        "    return sectors"
      ],
      "execution_count": 21,
      "outputs": []
    },
    {
      "cell_type": "code",
      "metadata": {
        "colab": {
          "base_uri": "https://localhost:8080/",
          "height": 282
        },
        "id": "nb55xPJk_xKu",
        "outputId": "7add2870-01fd-4805-ef38-35bd611e6c60"
      },
      "source": [
        "plt.plot(*polygon1.difference(sector).exterior.coords.xy)"
      ],
      "execution_count": 25,
      "outputs": [
        {
          "output_type": "execute_result",
          "data": {
            "text/plain": [
              "[<matplotlib.lines.Line2D at 0x7f3f75215f10>]"
            ]
          },
          "metadata": {
            "tags": []
          },
          "execution_count": 25
        },
        {
          "output_type": "display_data",
          "data": {
            "image/png": "[encoded data removed]",
            "text/plain": [
              "<Figure size 432x288 with 1 Axes>"
            ]
          },
          "metadata": {
            "tags": [],
            "needs_background": "light"
          }
        }
      ]
    },
    {
      "cell_type": "code",
      "metadata": {
        "id": "YL77EXcZKSJw"
      },
      "source": [
        ""
      ],
      "execution_count": null,
      "outputs": []
    },
    {
      "cell_type": "markdown",
      "metadata": {
        "id": "hunJBcOvNyx9"
      },
      "source": [
        "# Working Code"
      ]
    },
    {
      "cell_type": "code",
      "metadata": {
        "id": "V4HU-HgXOjgZ"
      },
      "source": [
        "def scale_fit_working(line, polygon, scalar):\n",
        "    start = line.coords[0]\n",
        "    end = line.coords[1]\n",
        "    deltax = end[0] - start[0]\n",
        "    deltay = end[1] - start[1]\n",
        "    deltax = deltax * scalar\n",
        "    deltay = deltay * scalar\n",
        "    new_coords = Point(deltax + start[0], deltay + start[1])\n",
        "    new_line = LineString([start, new_coords])\n",
        "    return new_line.intersection(polygon)"
      ],
      "execution_count": 68,
      "outputs": []
    },
    {
      "cell_type": "code",
      "metadata": {
        "id": "jZbR8rIzN0m_"
      },
      "source": [
        "def polygon_partition_working(shape, origin, n, step, threshold):\n",
        "    target_area = shape.area / n\n",
        "    print(\"Target area: \"  + str(target_area))\n",
        "    scalar = shape.hausdorff_distance(origin)\n",
        "\n",
        "    starting_line = LineString([origin, Point(origin.x + 1, origin.y)])\n",
        "    starting_line = scale_fit_working(starting_line, shape, scalar)\n",
        "    vector_line = line_to_vec(starting_line)\n",
        "\n",
        "    area = 1000\n",
        "    angle = 0\n",
        "\n",
        "    while (abs(area - target_area) > threshold):\n",
        "        angle += step\n",
        "        print(angle)\n",
        "\n",
        "        new_line = LineString([origin, Point(origin.x + math.cos(angle), origin.y + math.sin(angle))])\n",
        "        new_line = scale_fit_working(new_line, shape, scalar)\n",
        "\n",
        "        points = []\n",
        "        # Creates a list of the points on the shape that are in the angle\n",
        "        for point in shape.exterior.coords:\n",
        "            point_vec = line_to_vec(LineString([origin, point]))\n",
        "            point_angle = angle_between(vector_line, point_vec)\n",
        "            if (point_angle <= angle and point_angle >= 0):\n",
        "                # print(\"Point: \" + str(point) + \", Angle: \" + str(point_angle))\n",
        "                points.append(point)\n",
        "\n",
        "        #Adds the end of the starting line, the end of the new line, and the origin to round out the polygon\n",
        "        points.insert(0, starting_line.coords[1])\n",
        "        points.insert(0, origin)\n",
        "        points.append(new_line.coords[1])\n",
        "        points.append(origin)\n",
        "        sector = Polygon(points)\n",
        "\n",
        "        # print(\"Sector area: \" + str(sector.area))\n",
        "        area = sector.area\n",
        "\n",
        "    \n",
        "    # TOOO: Iterate through, incrementing angle, finding new line intersecting polygon\n",
        "    # Sector needs to include union of the lines and the polygon\n",
        "    print(\"succeeded: \" + str(sector.area))\n",
        "    return sector"
      ],
      "execution_count": 69,
      "outputs": []
    },
    {
      "cell_type": "code",
      "metadata": {
        "colab": {
          "base_uri": "https://localhost:8080/",
          "height": 1000
        },
        "id": "JytlsfOwN20b",
        "outputId": "51b8c39c-aef5-4921-843c-9342593c632b"
      },
      "source": [
        "polygon_w = Polygon([[0, 0], [1, 0], [1, 1], [0, 1], [0, 0]])\n",
        "point_w = Point([0.5, 0.5])\n",
        "\n",
        "sector_w = polygon_partition_working(polygon_w, point_w, 5, .1, .005)\n",
        "\n",
        "plt.plot(*polygon_w.exterior.coords.xy)\n",
        "plt.plot(*sector_w.exterior.coords.xy)"
      ],
      "execution_count": 72,
      "outputs": [
        {
          "output_type": "stream",
          "text": [
            "Target area: 0.2\n",
            "<shapely.coords.CoordinateSequence object at 0x7f3f70ecca50>\n",
            "0.1\n",
            "<shapely.coords.CoordinateSequence object at 0x7f3f74cde590>\n",
            "<shapely.coords.CoordinateSequence object at 0x7f3f74cde590>\n",
            "<shapely.coords.CoordinateSequence object at 0x7f3f74cde590>\n",
            "<shapely.coords.CoordinateSequence object at 0x7f3f74cde590>\n",
            "<shapely.coords.CoordinateSequence object at 0x7f3f74cde590>\n",
            "0.2\n",
            "<shapely.coords.CoordinateSequence object at 0x7f3f74cdead0>\n",
            "<shapely.coords.CoordinateSequence object at 0x7f3f74cdead0>\n",
            "<shapely.coords.CoordinateSequence object at 0x7f3f74cdead0>\n",
            "<shapely.coords.CoordinateSequence object at 0x7f3f74cdead0>\n",
            "<shapely.coords.CoordinateSequence object at 0x7f3f74cdead0>\n",
            "0.30000000000000004\n",
            "<shapely.coords.CoordinateSequence object at 0x7f3f74cde650>\n",
            "<shapely.coords.CoordinateSequence object at 0x7f3f74cde650>\n",
            "<shapely.coords.CoordinateSequence object at 0x7f3f74cde650>\n",
            "<shapely.coords.CoordinateSequence object at 0x7f3f74cde650>\n",
            "<shapely.coords.CoordinateSequence object at 0x7f3f74cde650>\n",
            "0.4\n",
            "<shapely.coords.CoordinateSequence object at 0x7f3f74cde4d0>\n",
            "<shapely.coords.CoordinateSequence object at 0x7f3f74cde4d0>\n",
            "<shapely.coords.CoordinateSequence object at 0x7f3f74cde4d0>\n",
            "<shapely.coords.CoordinateSequence object at 0x7f3f74cde4d0>\n",
            "<shapely.coords.CoordinateSequence object at 0x7f3f74cde4d0>\n",
            "0.5\n",
            "<shapely.coords.CoordinateSequence object at 0x7f3f74cde650>\n",
            "<shapely.coords.CoordinateSequence object at 0x7f3f74cde650>\n",
            "<shapely.coords.CoordinateSequence object at 0x7f3f74cde650>\n",
            "<shapely.coords.CoordinateSequence object at 0x7f3f74cde650>\n",
            "<shapely.coords.CoordinateSequence object at 0x7f3f74cde650>\n",
            "0.6\n",
            "<shapely.coords.CoordinateSequence object at 0x7f3f74cde4d0>\n",
            "<shapely.coords.CoordinateSequence object at 0x7f3f74cdefd0>\n",
            "<shapely.coords.CoordinateSequence object at 0x7f3f74cde1d0>\n",
            "<shapely.coords.CoordinateSequence object at 0x7f3f74cde4d0>\n",
            "<shapely.coords.CoordinateSequence object at 0x7f3f74cde4d0>\n",
            "0.7\n",
            "<shapely.coords.CoordinateSequence object at 0x7f3f74cde1d0>\n",
            "<shapely.coords.CoordinateSequence object at 0x7f3f74cde1d0>\n",
            "<shapely.coords.CoordinateSequence object at 0x7f3f74cdefd0>\n",
            "<shapely.coords.CoordinateSequence object at 0x7f3f74cde4d0>\n",
            "<shapely.coords.CoordinateSequence object at 0x7f3f74cde4d0>\n",
            "0.7999999999999999\n",
            "<shapely.coords.CoordinateSequence object at 0x7f3f74cde150>\n",
            "<shapely.coords.CoordinateSequence object at 0x7f3f74cde650>\n",
            "<shapely.coords.CoordinateSequence object at 0x7f3f74d532d0>\n",
            "<shapely.coords.CoordinateSequence object at 0x7f3f74d53750>\n",
            "<shapely.coords.CoordinateSequence object at 0x7f3f74d530d0>\n",
            "0.8999999999999999\n",
            "<shapely.coords.CoordinateSequence object at 0x7f3f74d53750>\n",
            "<shapely.coords.CoordinateSequence object at 0x7f3f74d53590>\n",
            "<shapely.coords.CoordinateSequence object at 0x7f3f74d534d0>\n",
            "<shapely.coords.CoordinateSequence object at 0x7f3f74d534d0>\n",
            "<shapely.coords.CoordinateSequence object at 0x7f3f74cde4d0>\n",
            "0.9999999999999999\n",
            "<shapely.coords.CoordinateSequence object at 0x7f3f74d532d0>\n",
            "<shapely.coords.CoordinateSequence object at 0x7f3f74d530d0>\n",
            "<shapely.coords.CoordinateSequence object at 0x7f3f74d532d0>\n",
            "<shapely.coords.CoordinateSequence object at 0x7f3f74d530d0>\n",
            "<shapely.coords.CoordinateSequence object at 0x7f3f74cde650>\n",
            "1.0999999999999999\n",
            "<shapely.coords.CoordinateSequence object at 0x7f3f74cde650>\n",
            "<shapely.coords.CoordinateSequence object at 0x7f3f74cde4d0>\n",
            "<shapely.coords.CoordinateSequence object at 0x7f3f74cde4d0>\n",
            "<shapely.coords.CoordinateSequence object at 0x7f3f74cde650>\n",
            "<shapely.coords.CoordinateSequence object at 0x7f3f74cde4d0>\n",
            "1.2\n",
            "<shapely.coords.CoordinateSequence object at 0x7f3f74cde650>\n",
            "<shapely.coords.CoordinateSequence object at 0x7f3f74cdefd0>\n",
            "<shapely.coords.CoordinateSequence object at 0x7f3f74cde650>\n",
            "<shapely.coords.CoordinateSequence object at 0x7f3f74cdefd0>\n",
            "<shapely.coords.CoordinateSequence object at 0x7f3f74cde650>\n",
            "succeeded: 0.20140255382897437\n"
          ],
          "name": "stdout"
        },
        {
          "output_type": "execute_result",
          "data": {
            "text/plain": [
              "[<matplotlib.lines.Line2D at 0x7f3f710a2a10>]"
            ]
          },
          "metadata": {
            "tags": []
          },
          "execution_count": 72
        },
        {
          "output_type": "display_data",
          "data": {
            "image/png": "[encoded data removed]",
            "text/plain": [
              "<Figure size 432x288 with 1 Axes>"
            ]
          },
          "metadata": {
            "tags": [],
            "needs_background": "light"
          }
        }
      ]
    },
    {
      "cell_type": "code",
      "metadata": {
        "id": "DhuXm2afOfj7"
      },
      "source": [
        ""
      ],
      "execution_count": null,
      "outputs": []
    }
  ]
}